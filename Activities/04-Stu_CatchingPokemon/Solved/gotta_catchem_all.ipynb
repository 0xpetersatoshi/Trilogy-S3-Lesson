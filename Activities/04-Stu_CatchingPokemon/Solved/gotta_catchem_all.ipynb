{
 "cells": [
  {
   "cell_type": "code",
   "execution_count": 1,
   "metadata": {},
   "outputs": [],
   "source": [
    "import json\n",
    "import requests\n",
    "import boto3\n",
    "from botocore.exceptions import ClientError"
   ]
  },
  {
   "cell_type": "code",
   "execution_count": 2,
   "metadata": {},
   "outputs": [],
   "source": [
    "# Set up s3 resource\n",
    "s3 = boto3.resource(\"s3\")"
   ]
  },
  {
   "cell_type": "code",
   "execution_count": 3,
   "metadata": {},
   "outputs": [],
   "source": [
    "# Define bucket name\n",
    "bucket_name = \"trilogy-student-12345\"\n",
    "\n",
    "# Use the following API endpoint to query for data relating to the following pokemon:\n",
    "# pikachu, charmander, jigglypuff, mew\n",
    "# Example API Endpoint: \"https://pokeapi.co/api/v2/pokemon/pikachu/\"\n",
    "\n",
    "# Create a dictionary containing pokemon as 'keys' and API endpoints to the \n",
    "# Associated pokemon as the 'value'\n",
    "urls = {\n",
    "    \"pikachu\": \"https://pokeapi.co/api/v2/pokemon/pikachu/\",\n",
    "    \"charmander\": \"https://pokeapi.co/api/v2/pokemon/charmander/\",\n",
    "    \"jigglypuff\": \"https://pokeapi.co/api/v2/pokemon/jigglypuff/\",\n",
    "    \"mew\": \"https://pokeapi.co/api/v2/pokemon/mew/\"\n",
    "}"
   ]
  },
  {
   "cell_type": "code",
   "execution_count": 4,
   "metadata": {},
   "outputs": [
    {
     "name": "stdout",
     "output_type": "stream",
     "text": [
      "================================================================================\n",
      "Getting pikachu data from https://pokeapi.co/api/v2/pokemon/pikachu/\n",
      "Saving pikachu data to trilogy-student-12345 bucket in s3\n",
      "Successfully uploaded pikachu data!\n",
      "================================================================================\n",
      "Getting charmander data from https://pokeapi.co/api/v2/pokemon/charmander/\n",
      "Saving charmander data to trilogy-student-12345 bucket in s3\n",
      "Successfully uploaded charmander data!\n",
      "================================================================================\n",
      "Getting jigglypuff data from https://pokeapi.co/api/v2/pokemon/jigglypuff/\n",
      "Saving jigglypuff data to trilogy-student-12345 bucket in s3\n",
      "Successfully uploaded jigglypuff data!\n",
      "================================================================================\n",
      "Getting mew data from https://pokeapi.co/api/v2/pokemon/mew/\n",
      "Saving mew data to trilogy-student-12345 bucket in s3\n",
      "Successfully uploaded mew data!\n"
     ]
    }
   ],
   "source": [
    "# Loop through dictionary, get pokemon data, and upload file to s3\n",
    "for pokemon, url in urls.items():\n",
    "    # Format the output\n",
    "    print(\"=\" * 80)\n",
    "    try:\n",
    "        print(f\"Getting {pokemon} data from {url}\")\n",
    "        res = requests.get(url).json()\n",
    "\n",
    "        # Set the s3 key name\n",
    "        key = f\"pokemon-data/{pokemon}.json\"\n",
    "\n",
    "        # Upload json to s3\n",
    "        print(f\"Saving {pokemon} data to {bucket_name} bucket in s3\")\n",
    "        obj = s3.Object(bucket_name, key)\n",
    "        obj.put(Body=json.dumps(res))\n",
    "        print(f\"Successfully uploaded {pokemon} data!\")\n",
    "    except ClientError as error:\n",
    "        print(error)"
   ]
  }
 ],
 "metadata": {
  "kernelspec": {
   "display_name": "Python 3",
   "language": "python",
   "name": "python3"
  },
  "language_info": {
   "codemirror_mode": {
    "name": "ipython",
    "version": 3
   },
   "file_extension": ".py",
   "mimetype": "text/x-python",
   "name": "python",
   "nbconvert_exporter": "python",
   "pygments_lexer": "ipython3",
   "version": "3.6.8"
  }
 },
 "nbformat": 4,
 "nbformat_minor": 2
}
