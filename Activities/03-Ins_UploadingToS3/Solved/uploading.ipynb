{
 "cells": [
  {
   "cell_type": "code",
   "execution_count": 1,
   "metadata": {},
   "outputs": [],
   "source": [
    "import os\n",
    "import json\n",
    "import requests\n",
    "import boto3"
   ]
  },
  {
   "cell_type": "code",
   "execution_count": 2,
   "metadata": {},
   "outputs": [],
   "source": [
    "# Set up s3 resource\n",
    "s3 = boto3.resource(\"s3\")"
   ]
  },
  {
   "cell_type": "code",
   "execution_count": 3,
   "metadata": {},
   "outputs": [],
   "source": [
    "# Define bucket name\n",
    "bucket_name = \"trilogy-student-12345\" # Instructors replace with your own S3 bucket name"
   ]
  },
  {
   "cell_type": "markdown",
   "metadata": {},
   "source": [
    "The boto3 library has APIs for uploading files, file objects, bytes, etc...\n",
    "\n",
    "We will use two different methods for uploading data to s3:\n",
    "- `Object.upload_file()`\n",
    "- `Object.put()`"
   ]
  },
  {
   "cell_type": "markdown",
   "metadata": {},
   "source": [
    "### I. Uploading locally stored data"
   ]
  },
  {
   "cell_type": "markdown",
   "metadata": {},
   "source": [
    "To upload a file currently living on our local machine, we can use the `upload_file()` method."
   ]
  },
  {
   "cell_type": "code",
   "execution_count": 4,
   "metadata": {},
   "outputs": [],
   "source": [
    "# Create the path to the local file to upload\n",
    "data = os.path.join(\"Resources\", \"Data\", \"iris.csv\")"
   ]
  },
  {
   "cell_type": "code",
   "execution_count": 5,
   "metadata": {},
   "outputs": [],
   "source": [
    "# Create an s3 object by passing in the bucket name as well as a key\n",
    "obj = s3.Object(bucket_name, \"data/iris.csv\")\n",
    "# Use the 'upload_file' method to upload a file\n",
    "obj.upload_file(data)"
   ]
  },
  {
   "cell_type": "markdown",
   "metadata": {},
   "source": [
    "### II. Uploading data not stored locally"
   ]
  },
  {
   "cell_type": "markdown",
   "metadata": {},
   "source": [
    "When running code in the cloud (AWS), there may be times when we are calling data from an API and must save that reponse data directly to s3 instead of uploading a file. The `upload_file()` method only accepts file paths, as you would expect. But we can use the `put()` method in order to write bytes, or more simply put, raw data that isn't stored in a file and only exists in our current python program at runtime."
   ]
  },
  {
   "cell_type": "code",
   "execution_count": 6,
   "metadata": {},
   "outputs": [],
   "source": [
    "# Get the current location of the International Space Station\n",
    "url = \"http://api.open-notify.org/iss-now.json\"\n",
    "r = requests.get(url)\n",
    "data = r.json()"
   ]
  },
  {
   "cell_type": "code",
   "execution_count": 7,
   "metadata": {},
   "outputs": [
    {
     "data": {
      "text/plain": [
       "{'ETag': '\"8d2695eaf734b5e8ad66b2814da8f4f6\"',\n",
       " 'ResponseMetadata': {'HTTPHeaders': {'content-length': '0',\n",
       "   'date': 'Mon, 04 Mar 2019 08:06:30 GMT',\n",
       "   'etag': '\"8d2695eaf734b5e8ad66b2814da8f4f6\"',\n",
       "   'server': 'AmazonS3',\n",
       "   'x-amz-id-2': 'pR+P2hUA44w+BO5EVj2Msxf+7U+yLHjSutpYQz5RAKcgysli4bCR/bYfkhm0+B3lFjgELz4+ikU=',\n",
       "   'x-amz-request-id': '9D7E7D1559FC488E'},\n",
       "  'HTTPStatusCode': 200,\n",
       "  'HostId': 'pR+P2hUA44w+BO5EVj2Msxf+7U+yLHjSutpYQz5RAKcgysli4bCR/bYfkhm0+B3lFjgELz4+ikU=',\n",
       "  'RequestId': '9D7E7D1559FC488E',\n",
       "  'RetryAttempts': 0}}"
      ]
     },
     "execution_count": 7,
     "metadata": {},
     "output_type": "execute_result"
    }
   ],
   "source": [
    "# Create an s3 object by passing in the bucket name as well as a key\n",
    "obj = s3.Object(bucket_name, \"data/iss_current_location.json\")\n",
    "obj.put(Body=json.dumps(data))"
   ]
  },
  {
   "cell_type": "markdown",
   "metadata": {},
   "source": [
    "**NOTE**: As you may notice when you run the above cell, `obj.put()` returns a dictionary response that contains metadata about the attempted upload to s3. You can verify that your file was loaded successfully by looking for a 200 status code in the `HTTPStatusCode` key."
   ]
  }
 ],
 "metadata": {
  "kernelspec": {
   "display_name": "Python 3",
   "language": "python",
   "name": "python3"
  },
  "language_info": {
   "codemirror_mode": {
    "name": "ipython",
    "version": 3
   },
   "file_extension": ".py",
   "mimetype": "text/x-python",
   "name": "python",
   "nbconvert_exporter": "python",
   "pygments_lexer": "ipython3",
   "version": "3.6.8"
  }
 },
 "nbformat": 4,
 "nbformat_minor": 2
}
