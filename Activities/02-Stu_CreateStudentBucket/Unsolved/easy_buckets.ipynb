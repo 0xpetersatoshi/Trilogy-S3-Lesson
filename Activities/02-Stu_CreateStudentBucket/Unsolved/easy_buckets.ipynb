{
 "cells": [
  {
   "cell_type": "code",
   "execution_count": null,
   "metadata": {},
   "outputs": [],
   "source": [
    "import uuid\n",
    "import boto3\n",
    "from botocore.exceptions import ClientError"
   ]
  },
  {
   "cell_type": "code",
   "execution_count": null,
   "metadata": {},
   "outputs": [],
   "source": [
    "# Set up s3 resource and session object\n",
    "\n",
    "# Get region variable"
   ]
  },
  {
   "cell_type": "markdown",
   "metadata": {},
   "source": [
    "Complete the `while` loop below that will take in user `input` and create a *unique* bucket in AWS."
   ]
  },
  {
   "cell_type": "code",
   "execution_count": null,
   "metadata": {},
   "outputs": [],
   "source": [
    "# Use input to pass in a bucket name on each iteration to create up to 4 new buckets\n",
    "bucket_count = 0\n",
    "while bucket_count <= 4:\n",
    "    print(\"Enter bucket prefix to create a new bucket. Enter 'exit' to quit.\")\n",
    "    bucket_prefix = input()\n",
    "    if bucket_prefix == \"exit\":\n",
    "        print(\"Exiting program...\")\n",
    "        break\n",
    "\n",
    "    # Create identifier variable\n",
    "    \n",
    "    # Create bucket_name\n",
    "\n",
    "    try:\n",
    "        s3.create_bucket(\n",
    "            # Complete code\n",
    "            # Remember to pass in a region\n",
    "        )\n",
    "\n",
    "        \n",
    "        # Create successfull print message\n",
    "    \n",
    "    except ClientError as error:\n",
    "        print(error)"
   ]
  }
 ],
 "metadata": {
  "kernelspec": {
   "display_name": "Python 3",
   "language": "python",
   "name": "python3"
  },
  "language_info": {
   "codemirror_mode": {
    "name": "ipython",
    "version": 3
   },
   "file_extension": ".py",
   "mimetype": "text/x-python",
   "name": "python",
   "nbconvert_exporter": "python",
   "pygments_lexer": "ipython3",
   "version": "3.6.8"
  }
 },
 "nbformat": 4,
 "nbformat_minor": 2
}
